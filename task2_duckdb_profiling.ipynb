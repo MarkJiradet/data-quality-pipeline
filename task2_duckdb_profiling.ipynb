{
 "cells": [
  {
   "cell_type": "code",
   "execution_count": 1,
   "id": "031a6e2b",
   "metadata": {},
   "outputs": [],
   "source": [
    "import duckdb"
   ]
  },
  {
   "cell_type": "code",
   "execution_count": 2,
   "id": "efd6b895",
   "metadata": {},
   "outputs": [],
   "source": [
    "# สร้าง DuckDB และเชื่อมต่อ\n",
    "con = duckdb.connect('ecommerce.duckdb')"
   ]
  },
  {
   "cell_type": "code",
   "execution_count": 3,
   "id": "5ef83ee7",
   "metadata": {},
   "outputs": [
    {
     "data": {
      "text/plain": [
       "<duckdb.duckdb.DuckDBPyConnection at 0x1c8ffbffa30>"
      ]
     },
     "execution_count": 3,
     "metadata": {},
     "output_type": "execute_result"
    }
   ],
   "source": [
    "# โหลด historical data\n",
    "con.execute(\"\"\"\n",
    "    CREATE OR REPLACE TABLE historical AS\n",
    "    SELECT * FROM read_parquet('historical_transactions.parquet')\n",
    "\"\"\")"
   ]
  },
  {
   "cell_type": "code",
   "execution_count": 4,
   "id": "0e641ba7",
   "metadata": {},
   "outputs": [],
   "source": [
    "# โหลด daily data ทั้ง 5 วัน\n",
    "for day in range(1, 6):\n",
    "    con.execute(f\"\"\"\n",
    "        INSERT INTO historical\n",
    "        SELECT * FROM read_parquet('daily_transactions_day{day}.parquet')\n",
    "    \"\"\")"
   ]
  },
  {
   "cell_type": "code",
   "execution_count": 5,
   "id": "f7624039",
   "metadata": {},
   "outputs": [
    {
     "name": "stdout",
     "output_type": "stream",
     "text": [
      "   void_or_cancel_without_completed\n",
      "0                              5000\n"
     ]
    }
   ],
   "source": [
    "# 1. The number of void/cancel transactions without an initial payment.\n",
    "query_void_without_completed = \"\"\"\n",
    "SELECT COUNT(*) AS void_or_cancel_without_completed\n",
    "FROM historical h\n",
    "WHERE status IN ('void', 'cancel')\n",
    "  AND NOT EXISTS (\n",
    "    SELECT 1 FROM historical h2\n",
    "    WHERE h2.transaction_id = h.transaction_id\n",
    "      AND h2.status = 'completed'\n",
    "  )\n",
    "\"\"\"\n",
    "\n",
    "print(con.execute(query_void_without_completed).fetchdf())"
   ]
  },
  {
   "cell_type": "code",
   "execution_count": 6,
   "id": "fa6e8a8b",
   "metadata": {},
   "outputs": [
    {
     "name": "stdout",
     "output_type": "stream",
     "text": [
      "   negative_amounts\n",
      "0              2100\n"
     ]
    }
   ],
   "source": [
    "# 2. The count of negative transaction amounts.\n",
    "query_negative_amounts = \"\"\"\n",
    "SELECT COUNT(*) AS negative_amounts\n",
    "FROM historical\n",
    "WHERE amount < 0\n",
    "\"\"\"\n",
    "\n",
    "print(con.execute(query_negative_amounts).fetchdf())"
   ]
  },
  {
   "cell_type": "code",
   "execution_count": 7,
   "id": "cec6fa08",
   "metadata": {},
   "outputs": [
    {
     "name": "stdout",
     "output_type": "stream",
     "text": [
      "      status    count\n",
      "0     cancel     2666\n",
      "1       void     2584\n",
      "2  completed  1044750\n"
     ]
    }
   ],
   "source": [
    "# 3. The distribution of transaction statuses.\n",
    "query_status_distribution = \"\"\"\n",
    "SELECT status, COUNT(*) AS count\n",
    "FROM historical\n",
    "GROUP BY status\n",
    "\"\"\"\n",
    "\n",
    "print(con.execute(query_status_distribution).fetchdf())"
   ]
  },
  {
   "cell_type": "code",
   "execution_count": 8,
   "id": "b68f7644",
   "metadata": {},
   "outputs": [
    {
     "name": "stdout",
     "output_type": "stream",
     "text": [
      "           date  total_transactions\n",
      "0    2024-04-22                1478\n",
      "1    2024-04-23                2763\n",
      "2    2024-04-24                2743\n",
      "3    2024-04-25                2718\n",
      "4    2024-04-26                2710\n",
      "..          ...                 ...\n",
      "365  2025-04-22               11965\n",
      "366  2025-04-23               10000\n",
      "367  2025-04-24               10000\n",
      "368  2025-04-25               10000\n",
      "369  2025-04-26               10000\n",
      "\n",
      "[370 rows x 2 columns]\n"
     ]
    }
   ],
   "source": [
    "# Generate summary statistics on transaction trends.\n",
    "query_trends = \"\"\"\n",
    "SELECT SUBSTR(timestamp, 1, 10) AS date, COUNT(*) AS total_transactions\n",
    "FROM historical\n",
    "GROUP BY date\n",
    "ORDER BY date\n",
    "\"\"\"\n",
    "\n",
    "print(con.execute(query_trends).fetchdf())"
   ]
  },
  {
   "cell_type": "code",
   "execution_count": 10,
   "id": "8b593a17",
   "metadata": {},
   "outputs": [],
   "source": [
    "con.close()"
   ]
  }
 ],
 "metadata": {
  "kernelspec": {
   "display_name": "Python 3",
   "language": "python",
   "name": "python3"
  },
  "language_info": {
   "codemirror_mode": {
    "name": "ipython",
    "version": 3
   },
   "file_extension": ".py",
   "mimetype": "text/x-python",
   "name": "python",
   "nbconvert_exporter": "python",
   "pygments_lexer": "ipython3",
   "version": "3.13.3"
  }
 },
 "nbformat": 4,
 "nbformat_minor": 5
}
