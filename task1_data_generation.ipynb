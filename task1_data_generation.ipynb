{
 "cells": [
  {
   "cell_type": "code",
   "execution_count": null,
   "id": "a2838bea",
   "metadata": {},
   "outputs": [],
   "source": [
    "import pandas as pd\n",
    "import numpy as np\n",
    "from faker import Faker\n",
    "from datetime import datetime, timedelta"
   ]
  },
  {
   "cell_type": "code",
   "execution_count": null,
   "id": "78e1ec79",
   "metadata": {},
   "outputs": [],
   "source": [
    "fake = Faker()\n",
    "\n",
    "# Configuration\n",
    "NUM_HIST = 1_000_000  # historical transactions\n",
    "NUM_DAILY = 10_000   # daily transactions per day\n",
    "DAYS = 5             # number of days to simulate"
   ]
  },
  {
   "cell_type": "code",
   "execution_count": null,
   "id": "48b9c152",
   "metadata": {},
   "outputs": [],
   "source": [
    "# ฟังก์ชันสร้างข้อมูลรายการเดียว\n",
    "def generate_transaction(idx, date):\n",
    "    return {\n",
    "        'transaction_id': f'TX{idx:07d}',\n",
    "        'user_id': fake.random_int(min=1, max=100000),\n",
    "        'product_id': fake.random_int(min=1, max=10000),\n",
    "        'category': fake.word(ext_word_list=['electronics', 'clothing', 'home', 'toys']),\n",
    "        'amount': round(np.random.uniform(10, 500), 2),\n",
    "        'payment_method': fake.word(ext_word_list=['credit_card', 'paypal', 'bank_transfer']),\n",
    "        'timestamp': date.strftime('%Y-%m-%d %H:%M:%S'),\n",
    "        'status': 'completed'\n",
    "    }"
   ]
  },
  {
   "cell_type": "code",
   "execution_count": null,
   "id": "df47bd94",
   "metadata": {},
   "outputs": [],
   "source": [
    "# ฟังก์ชันเพิ่มปัญหาคุณภาพข้อมูล\n",
    "def add_issues(df):\n",
    "    # เพิ่มสถานะ void/cancel โดยไม่มีรายการต้นฉบับ\n",
    "    void_count = int(len(df) * 0.005)\n",
    "    df.loc[df.sample(void_count).index, 'status'] = np.random.choice(['void', 'cancel'], void_count)\n",
    "\n",
    "    # เพิ่มยอดเงินติดลบ\n",
    "    neg_count = int(len(df) * 0.002)\n",
    "    df.loc[df.sample(neg_count).index, 'amount'] *= -1\n",
    "    return df"
   ]
  },
  {
   "cell_type": "code",
   "execution_count": null,
   "id": "8676ceaa",
   "metadata": {},
   "outputs": [],
   "source": [
    "# สร้างข้อมูลย้อนหลัง\n",
    "hist_data = [generate_transaction(i, fake.date_time_between(start_date='-1y', end_date='now')) for i in range(NUM_HIST)]\n",
    "df_hist = pd.DataFrame(hist_data)\n",
    "df_hist = add_issues(df_hist)\n",
    "df_hist.to_parquet('historical_transactions.parquet', index=False)\n",
    "print(\"สร้าง historical_transactions.parquet เรียบร้อยแล้ว\")"
   ]
  },
  {
   "cell_type": "code",
   "execution_count": null,
   "id": "a360c197",
   "metadata": {},
   "outputs": [],
   "source": [
    "# สร้างข้อมูลรายวัน\n",
    "base_idx = NUM_HIST\n",
    "for day in range(DAYS):\n",
    "    date = datetime.now() + timedelta(days=day)\n",
    "    daily_data = [generate_transaction(base_idx + i, date) for i in range(NUM_DAILY)]\n",
    "    df_day = pd.DataFrame(daily_data)\n",
    "    df_day = add_issues(df_day)\n",
    "    df_day.to_parquet(f'daily_transactions_day{day+1}.parquet', index=False)\n",
    "    print(f\"สร้าง daily_transactions_day{day+1}.parquet เรียบร้อยแล้ว\")\n"
   ]
  }
 ],
 "metadata": {
  "language_info": {
   "name": "python"
  }
 },
 "nbformat": 4,
 "nbformat_minor": 5
}
